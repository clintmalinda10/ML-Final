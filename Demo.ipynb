{
 "cells": [
  {
   "cell_type": "code",
   "execution_count": 3,
   "metadata": {},
   "outputs": [
    {
     "data": {
      "application/vnd.jupyter.widget-view+json": {
       "model_id": "6d3dccbc07874e5e8b17637bcdca63bf",
       "version_major": 2,
       "version_minor": 0
      },
      "text/plain": [
       "Label(value='        PLEASE ENTER THE WIFI SIGNAL FOR THE DIFFERENT SENSORS')"
      ]
     },
     "metadata": {},
     "output_type": "display_data"
    },
    {
     "data": {
      "application/vnd.jupyter.widget-view+json": {
       "model_id": "809cb23b91814ee8a3554980fdedc3c2",
       "version_major": 2,
       "version_minor": 0
      },
      "text/plain": [
       "Text(value='', description='Signal-1:', placeholder='Enter wifi strength.')"
      ]
     },
     "metadata": {},
     "output_type": "display_data"
    },
    {
     "data": {
      "application/vnd.jupyter.widget-view+json": {
       "model_id": "bd7c3cf8d4b64c4b8bc390765d99bcac",
       "version_major": 2,
       "version_minor": 0
      },
      "text/plain": [
       "Text(value='', description='Signal-2:', placeholder='Enter wifi strength.')"
      ]
     },
     "metadata": {},
     "output_type": "display_data"
    },
    {
     "data": {
      "application/vnd.jupyter.widget-view+json": {
       "model_id": "2307ac830ec04adebc2d69acf2c994e0",
       "version_major": 2,
       "version_minor": 0
      },
      "text/plain": [
       "Text(value='', description='Signal-3:', placeholder='Enter wifi strength.')"
      ]
     },
     "metadata": {},
     "output_type": "display_data"
    },
    {
     "data": {
      "application/vnd.jupyter.widget-view+json": {
       "model_id": "283138b618664d06833674eb39b4286f",
       "version_major": 2,
       "version_minor": 0
      },
      "text/plain": [
       "Text(value='', description='Signal-4:', placeholder='Enter wifi strength.')"
      ]
     },
     "metadata": {},
     "output_type": "display_data"
    },
    {
     "data": {
      "application/vnd.jupyter.widget-view+json": {
       "model_id": "ebf4a55654654d3bbffe3364624da5d3",
       "version_major": 2,
       "version_minor": 0
      },
      "text/plain": [
       "Text(value='', description='Signal-5:', placeholder='Enter wifi strength.')"
      ]
     },
     "metadata": {},
     "output_type": "display_data"
    },
    {
     "data": {
      "application/vnd.jupyter.widget-view+json": {
       "model_id": "73709160a6f741f2ad9bf45361572d81",
       "version_major": 2,
       "version_minor": 0
      },
      "text/plain": [
       "Text(value='', description='Signal-6:', placeholder='Enter wifi strength.')"
      ]
     },
     "metadata": {},
     "output_type": "display_data"
    },
    {
     "data": {
      "application/vnd.jupyter.widget-view+json": {
       "model_id": "16d293c41a3645de8171b17d564b1a19",
       "version_major": 2,
       "version_minor": 0
      },
      "text/plain": [
       "Text(value='', description='Signal-7:', placeholder='Enter wifi strength.')"
      ]
     },
     "metadata": {},
     "output_type": "display_data"
    },
    {
     "name": "stdout",
     "output_type": "stream",
     "text": [
      "Object `description` not found.\n"
     ]
    },
    {
     "data": {
      "application/vnd.jupyter.widget-view+json": {
       "model_id": "8147157b62cb4482bc116e05b002a413",
       "version_major": 2,
       "version_minor": 0
      },
      "text/plain": [
       "Label(value='Select')"
      ]
     },
     "metadata": {},
     "output_type": "display_data"
    },
    {
     "data": {
      "application/vnd.jupyter.widget-view+json": {
       "model_id": "e3d61e0eff4b48aaae2a02ba83750fcc",
       "version_major": 2,
       "version_minor": 0
      },
      "text/plain": [
       "Button(description='LOGISTIC REGRESSION', style=ButtonStyle())"
      ]
     },
     "metadata": {},
     "output_type": "display_data"
    },
    {
     "data": {
      "application/vnd.jupyter.widget-view+json": {
       "model_id": "e7e3c65dc02a4deabf853f9cab367f57",
       "version_major": 2,
       "version_minor": 0
      },
      "text/plain": [
       "Button(description='SVM', style=ButtonStyle())"
      ]
     },
     "metadata": {},
     "output_type": "display_data"
    },
    {
     "data": {
      "application/vnd.jupyter.widget-view+json": {
       "model_id": "c14eb31aaaf9430c835f9035885f6077",
       "version_major": 2,
       "version_minor": 0
      },
      "text/plain": [
       "Button(description='NEURAL NETWORK', style=ButtonStyle())"
      ]
     },
     "metadata": {},
     "output_type": "display_data"
    },
    {
     "name": "stdout",
     "output_type": "stream",
     "text": [
      "LOGISTIC REGRESSION PREDICTED :\n",
      "ROOM := 1.0\n",
      "SVM PREDICTED :\n",
      "ROOM := 1.0\n",
      "NN PREDICTED :\n",
      "ROOM := 2.0\n"
     ]
    }
   ],
   "source": [
    "%matplotlib notebook\n",
    "from sklearn.metrics import confusion_matrix \n",
    "from sklearn.metrics import accuracy_score, precision_score, recall_score,f1_score\n",
    "from sklearn.metrics import classification_report \n",
    "import pandas as pd\n",
    "import numpy as np\n",
    "import matplotlib.pyplot as plt\n",
    "from ipywidgets import *\n",
    "\n",
    "import seaborn as sn\n",
    "import pickle as pk\n",
    "\n",
    "logmm=pk.load(open('logm','rb'))\n",
    "nnn=pk.load(open('nn_model', 'rb'))\n",
    "svm=pk.load(open('SVMmodel','rb'))\n",
    "ss=pk.load(open('scal', 'rb'))\n",
    "\n",
    "\n",
    "\n",
    "\n",
    "\n",
    "ite = widgets.Label( \"        PLEASE ENTER THE WIFI SIGNAL FOR THE DIFFERENT SENSORS\")\n",
    "display(ite)\n",
    "X1=widgets.Text(placeholder='Enter wifi strength.',description='Signal-1:',disabled=False)\n",
    "display(X1)\n",
    "X2=widgets.Text(placeholder='Enter wifi strength.',description='Signal-2:',disabled=False)\n",
    "display(X2)\n",
    "X3=widgets.Text(placeholder='Enter wifi strength.',description='Signal-3:',disabled=False)\n",
    "display(X3)\n",
    "X4=widgets.Text(placeholder='Enter wifi strength.',description='Signal-4:',disabled=False)\n",
    "display(X4)\n",
    "X5=widgets.Text(placeholder='Enter wifi strength.',description='Signal-5:',disabled=False)\n",
    "display(X5)\n",
    "X6=widgets.Text(placeholder='Enter wifi strength.',description='Signal-6:',disabled=False)\n",
    "display(X6)\n",
    "X7=widgets.Text(placeholder='Enter wifi strength.',description='Signal-7:',disabled=False)\n",
    "display(X7)\n",
    "\n",
    "###\n",
    "description?\n",
    "ite = widgets.Label( \"Select\")\n",
    "display(ite)\n",
    "button1 = widgets.Button(description=\"LOGISTIC REGRESSION\")\n",
    "display(button1)\n",
    "button2 = widgets.Button(description=\"SVM\")\n",
    "display(button2)\n",
    "button3 = widgets.Button(description=\"NEURAL NETWORK\")\n",
    "display(button3)\n",
    "####\n",
    "\n",
    "   \n",
    "def LR(b):\n",
    "    print(\"LOGISTIC REGRESSION PREDICTED :\")   \n",
    "    logx=np.array([[float(X1.value),float(X2.value),float(X3.value),float(X4.value),float(X5.value),float(X6.value),float(X7.value)]])\n",
    "    logx=ss.transform(logx)\n",
    "    #print(logx)\n",
    "    pred_log=logmm.predict(logx)\n",
    "    print(\"ROOM :=\",pred_log[0])\n",
    "def SVM(b):\n",
    "    print(\"SVM PREDICTED :\")\n",
    "    ssm=np.array([[float(X1.value),float(X2.value),float(X3.value),float(X4.value),float(X5.value),float(X6.value),float(X7.value)]])\n",
    "    svvm=ss.transform(ssm)\n",
    "    pred_log=svm.predict(svvm)\n",
    "    print(\"ROOM :=\",pred_log[0])\n",
    "\n",
    "def NN(b):\n",
    "    print(\"NN PREDICTED :\")\n",
    "    nn=np.array([[float(X1.value),float(X2.value),float(X3.value),float(X4.value),float(X5.value),float(X6.value),float(X7.value)]])\n",
    "    ner=ss.transform(nn)\n",
    "    pred_log=nnn.predict(ner)\n",
    "    print(\"ROOM :=\",pred_log[0])\n",
    "    \n",
    "button1.on_click(LR)\n",
    "button2.on_click(SVM)\n",
    "button3.on_click(NN)"
   ]
  },
  {
   "cell_type": "code",
   "execution_count": null,
   "metadata": {},
   "outputs": [],
   "source": []
  },
  {
   "cell_type": "code",
   "execution_count": null,
   "metadata": {},
   "outputs": [],
   "source": []
  }
 ],
 "metadata": {
  "kernelspec": {
   "display_name": "Python 3",
   "language": "python",
   "name": "python3"
  },
  "language_info": {
   "codemirror_mode": {
    "name": "ipython",
    "version": 3
   },
   "file_extension": ".py",
   "mimetype": "text/x-python",
   "name": "python",
   "nbconvert_exporter": "python",
   "pygments_lexer": "ipython3",
   "version": "3.7.3"
  }
 },
 "nbformat": 4,
 "nbformat_minor": 2
}
